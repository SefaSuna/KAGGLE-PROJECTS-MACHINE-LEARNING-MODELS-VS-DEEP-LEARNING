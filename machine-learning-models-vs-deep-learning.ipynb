{
 "cells": [
  {
   "cell_type": "markdown",
   "id": "e2cc99d2",
   "metadata": {
    "papermill": {
     "duration": 0.062393,
     "end_time": "2022-05-18T14:20:51.648831",
     "exception": false,
     "start_time": "2022-05-18T14:20:51.586438",
     "status": "completed"
    },
    "tags": []
   },
   "source": [
    "#                                                              CONTENT\n",
    "1. [UNDERSTANDING CASE AND DATA](#1) <a id=15></a>\n",
    "2. [DATA VISUALIZATION](#2)\n",
    "3. [MACHINE LEARNING](#3)\n",
    "   - 3.1[Support Vector Machine](#4)\n",
    "   - 3.2[RandomForest](#5)\n",
    "   - 3.3[GradientBoosting](#6)\n",
    "   - 3.4[ XGBoosT](#7)\n",
    "   - 3.4[CATBoosT](#8)\n",
    "4. [DEEP LEARNING](#9)\n",
    "   - 4.1[MODEL](#10)\n",
    "   - 4.1[OVER FITTING](#11)\n",
    "5. [CLASSIFICATION CONCLUSIONS(MACHINE LEARNING MODELS VS DEEP LEARNING MODEL) ](#12)\n",
    "\n"
   ]
  },
  {
   "cell_type": "markdown",
   "id": "4bfb18c3",
   "metadata": {
    "papermill": {
     "duration": 0.040873,
     "end_time": "2022-05-18T14:20:51.731859",
     "exception": false,
     "start_time": "2022-05-18T14:20:51.690986",
     "status": "completed"
    },
    "tags": []
   },
   "source": [
    "# 1.UNDERSTANDING CASE AND DATA <a id=1></a>"
   ]
  },
  {
   "cell_type": "markdown",
   "id": "86cd78f6",
   "metadata": {
    "papermill": {
     "duration": 0.042082,
     "end_time": "2022-05-18T14:20:51.815107",
     "exception": false,
     "start_time": "2022-05-18T14:20:51.773025",
     "status": "completed"
    },
    "tags": []
   },
   "source": [
    "- About this dataset\n",
    "- Age : Age of the patient\n",
    "- Sex : Sex of the patient\n",
    "- exang: exercise induced angina (1 = yes; 0 = no)\n",
    "- ca: number of major vessels (0-3)\n",
    "- cp : Chest Pain type chest pain type\n",
    "- Value 1: typical angina\n",
    "- Value 2: atypical angina\n",
    "- Value 3: non-anginal pain\n",
    "- Value 4: asymptomatic\n",
    "- trtbps : resting blood pressure (in mm Hg)\n",
    "- chol : cholestoral in mg/dl fetched via BMI sensor\n",
    "- fbs : (fasting blood sugar > 120 mg/dl) (1 = true; 0 = false)\n",
    "- rest_ecg : resting electrocardiographic results\n",
    "- Value 0: normal\n",
    "- Value 1: having ST-T wave abnormality (T wave inversions and/or ST elevation or depression of > 0.05 mV)\n",
    "- Value 2: showing probable or definite left ventricular hypertrophy by Estes' criteria\n",
    "- thalach : maximum heart rate achieved\n",
    "- target : 0= less chance of heart attack 1= more chance of heart attack"
   ]
  },
  {
   "cell_type": "code",
   "execution_count": 1,
   "id": "ee56c15a",
   "metadata": {
    "execution": {
     "iopub.execute_input": "2022-05-18T14:20:51.899718Z",
     "iopub.status.busy": "2022-05-18T14:20:51.899319Z",
     "iopub.status.idle": "2022-05-18T14:20:52.884455Z",
     "shell.execute_reply": "2022-05-18T14:20:52.883664Z"
    },
    "papermill": {
     "duration": 1.030074,
     "end_time": "2022-05-18T14:20:52.886481",
     "exception": false,
     "start_time": "2022-05-18T14:20:51.856407",
     "status": "completed"
    },
    "tags": []
   },
   "outputs": [],
   "source": [
    "import pandas as pd \n",
    "import numpy as np\n",
    "import matplotlib.pyplot as plt\n",
    "import seaborn as sns\n",
    "import warnings\n",
    "warnings.filterwarnings('ignore')\n"
   ]
  },
  {
   "cell_type": "code",
   "execution_count": 2,
   "id": "513aca53",
   "metadata": {
    "execution": {
     "iopub.execute_input": "2022-05-18T14:20:52.971018Z",
     "iopub.status.busy": "2022-05-18T14:20:52.970772Z",
     "iopub.status.idle": "2022-05-18T14:20:52.990974Z",
     "shell.execute_reply": "2022-05-18T14:20:52.990347Z"
    },
    "papermill": {
     "duration": 0.064387,
     "end_time": "2022-05-18T14:20:52.992770",
     "exception": false,
     "start_time": "2022-05-18T14:20:52.928383",
     "status": "completed"
    },
    "tags": []
   },
   "outputs": [],
   "source": [
    "data=pd.read_csv(\"../input/heart-attack-analysis-prediction-dataset/heart.csv\")\n",
    "\n"
   ]
  },
  {
   "cell_type": "code",
   "execution_count": 3,
   "id": "cf415ba7",
   "metadata": {
    "execution": {
     "iopub.execute_input": "2022-05-18T14:20:53.078319Z",
     "iopub.status.busy": "2022-05-18T14:20:53.077931Z",
     "iopub.status.idle": "2022-05-18T14:20:53.097429Z",
     "shell.execute_reply": "2022-05-18T14:20:53.096941Z"
    },
    "papermill": {
     "duration": 0.063954,
     "end_time": "2022-05-18T14:20:53.099224",
     "exception": false,
     "start_time": "2022-05-18T14:20:53.035270",
     "status": "completed"
    },
    "tags": []
   },
   "outputs": [
    {
     "data": {
      "text/html": [
       "<div>\n",
       "<style scoped>\n",
       "    .dataframe tbody tr th:only-of-type {\n",
       "        vertical-align: middle;\n",
       "    }\n",
       "\n",
       "    .dataframe tbody tr th {\n",
       "        vertical-align: top;\n",
       "    }\n",
       "\n",
       "    .dataframe thead th {\n",
       "        text-align: right;\n",
       "    }\n",
       "</style>\n",
       "<table border=\"1\" class=\"dataframe\">\n",
       "  <thead>\n",
       "    <tr style=\"text-align: right;\">\n",
       "      <th></th>\n",
       "      <th>age</th>\n",
       "      <th>sex</th>\n",
       "      <th>cp</th>\n",
       "      <th>trtbps</th>\n",
       "      <th>chol</th>\n",
       "      <th>fbs</th>\n",
       "      <th>restecg</th>\n",
       "      <th>thalachh</th>\n",
       "      <th>exng</th>\n",
       "      <th>oldpeak</th>\n",
       "      <th>slp</th>\n",
       "      <th>caa</th>\n",
       "      <th>thall</th>\n",
       "      <th>output</th>\n",
       "    </tr>\n",
       "  </thead>\n",
       "  <tbody>\n",
       "    <tr>\n",
       "      <th>0</th>\n",
       "      <td>63</td>\n",
       "      <td>1</td>\n",
       "      <td>3</td>\n",
       "      <td>145</td>\n",
       "      <td>233</td>\n",
       "      <td>1</td>\n",
       "      <td>0</td>\n",
       "      <td>150</td>\n",
       "      <td>0</td>\n",
       "      <td>2.3</td>\n",
       "      <td>0</td>\n",
       "      <td>0</td>\n",
       "      <td>1</td>\n",
       "      <td>1</td>\n",
       "    </tr>\n",
       "    <tr>\n",
       "      <th>1</th>\n",
       "      <td>37</td>\n",
       "      <td>1</td>\n",
       "      <td>2</td>\n",
       "      <td>130</td>\n",
       "      <td>250</td>\n",
       "      <td>0</td>\n",
       "      <td>1</td>\n",
       "      <td>187</td>\n",
       "      <td>0</td>\n",
       "      <td>3.5</td>\n",
       "      <td>0</td>\n",
       "      <td>0</td>\n",
       "      <td>2</td>\n",
       "      <td>1</td>\n",
       "    </tr>\n",
       "    <tr>\n",
       "      <th>2</th>\n",
       "      <td>41</td>\n",
       "      <td>0</td>\n",
       "      <td>1</td>\n",
       "      <td>130</td>\n",
       "      <td>204</td>\n",
       "      <td>0</td>\n",
       "      <td>0</td>\n",
       "      <td>172</td>\n",
       "      <td>0</td>\n",
       "      <td>1.4</td>\n",
       "      <td>2</td>\n",
       "      <td>0</td>\n",
       "      <td>2</td>\n",
       "      <td>1</td>\n",
       "    </tr>\n",
       "    <tr>\n",
       "      <th>3</th>\n",
       "      <td>56</td>\n",
       "      <td>1</td>\n",
       "      <td>1</td>\n",
       "      <td>120</td>\n",
       "      <td>236</td>\n",
       "      <td>0</td>\n",
       "      <td>1</td>\n",
       "      <td>178</td>\n",
       "      <td>0</td>\n",
       "      <td>0.8</td>\n",
       "      <td>2</td>\n",
       "      <td>0</td>\n",
       "      <td>2</td>\n",
       "      <td>1</td>\n",
       "    </tr>\n",
       "    <tr>\n",
       "      <th>4</th>\n",
       "      <td>57</td>\n",
       "      <td>0</td>\n",
       "      <td>0</td>\n",
       "      <td>120</td>\n",
       "      <td>354</td>\n",
       "      <td>0</td>\n",
       "      <td>1</td>\n",
       "      <td>163</td>\n",
       "      <td>1</td>\n",
       "      <td>0.6</td>\n",
       "      <td>2</td>\n",
       "      <td>0</td>\n",
       "      <td>2</td>\n",
       "      <td>1</td>\n",
       "    </tr>\n",
       "    <tr>\n",
       "      <th>5</th>\n",
       "      <td>57</td>\n",
       "      <td>1</td>\n",
       "      <td>0</td>\n",
       "      <td>140</td>\n",
       "      <td>192</td>\n",
       "      <td>0</td>\n",
       "      <td>1</td>\n",
       "      <td>148</td>\n",
       "      <td>0</td>\n",
       "      <td>0.4</td>\n",
       "      <td>1</td>\n",
       "      <td>0</td>\n",
       "      <td>1</td>\n",
       "      <td>1</td>\n",
       "    </tr>\n",
       "    <tr>\n",
       "      <th>6</th>\n",
       "      <td>56</td>\n",
       "      <td>0</td>\n",
       "      <td>1</td>\n",
       "      <td>140</td>\n",
       "      <td>294</td>\n",
       "      <td>0</td>\n",
       "      <td>0</td>\n",
       "      <td>153</td>\n",
       "      <td>0</td>\n",
       "      <td>1.3</td>\n",
       "      <td>1</td>\n",
       "      <td>0</td>\n",
       "      <td>2</td>\n",
       "      <td>1</td>\n",
       "    </tr>\n",
       "    <tr>\n",
       "      <th>7</th>\n",
       "      <td>44</td>\n",
       "      <td>1</td>\n",
       "      <td>1</td>\n",
       "      <td>120</td>\n",
       "      <td>263</td>\n",
       "      <td>0</td>\n",
       "      <td>1</td>\n",
       "      <td>173</td>\n",
       "      <td>0</td>\n",
       "      <td>0.0</td>\n",
       "      <td>2</td>\n",
       "      <td>0</td>\n",
       "      <td>3</td>\n",
       "      <td>1</td>\n",
       "    </tr>\n",
       "    <tr>\n",
       "      <th>8</th>\n",
       "      <td>52</td>\n",
       "      <td>1</td>\n",
       "      <td>2</td>\n",
       "      <td>172</td>\n",
       "      <td>199</td>\n",
       "      <td>1</td>\n",
       "      <td>1</td>\n",
       "      <td>162</td>\n",
       "      <td>0</td>\n",
       "      <td>0.5</td>\n",
       "      <td>2</td>\n",
       "      <td>0</td>\n",
       "      <td>3</td>\n",
       "      <td>1</td>\n",
       "    </tr>\n",
       "    <tr>\n",
       "      <th>9</th>\n",
       "      <td>57</td>\n",
       "      <td>1</td>\n",
       "      <td>2</td>\n",
       "      <td>150</td>\n",
       "      <td>168</td>\n",
       "      <td>0</td>\n",
       "      <td>1</td>\n",
       "      <td>174</td>\n",
       "      <td>0</td>\n",
       "      <td>1.6</td>\n",
       "      <td>2</td>\n",
       "      <td>0</td>\n",
       "      <td>2</td>\n",
       "      <td>1</td>\n",
       "    </tr>\n",
       "  </tbody>\n",
       "</table>\n",
       "</div>"
      ],
      "text/plain": [
       "   age  sex  cp  trtbps  chol  fbs  restecg  thalachh  exng  oldpeak  slp  \\\n",
       "0   63    1   3     145   233    1        0       150     0      2.3    0   \n",
       "1   37    1   2     130   250    0        1       187     0      3.5    0   \n",
       "2   41    0   1     130   204    0        0       172     0      1.4    2   \n",
       "3   56    1   1     120   236    0        1       178     0      0.8    2   \n",
       "4   57    0   0     120   354    0        1       163     1      0.6    2   \n",
       "5   57    1   0     140   192    0        1       148     0      0.4    1   \n",
       "6   56    0   1     140   294    0        0       153     0      1.3    1   \n",
       "7   44    1   1     120   263    0        1       173     0      0.0    2   \n",
       "8   52    1   2     172   199    1        1       162     0      0.5    2   \n",
       "9   57    1   2     150   168    0        1       174     0      1.6    2   \n",
       "\n",
       "   caa  thall  output  \n",
       "0    0      1       1  \n",
       "1    0      2       1  \n",
       "2    0      2       1  \n",
       "3    0      2       1  \n",
       "4    0      2       1  \n",
       "5    0      1       1  \n",
       "6    0      2       1  \n",
       "7    0      3       1  \n",
       "8    0      3       1  \n",
       "9    0      2       1  "
      ]
     },
     "execution_count": 3,
     "metadata": {},
     "output_type": "execute_result"
    }
   ],
   "source": [
    "data.head(10)"
   ]
  },
  {
   "cell_type": "code",
   "execution_count": 4,
   "id": "67df717e",
   "metadata": {
    "execution": {
     "iopub.execute_input": "2022-05-18T14:20:53.183470Z",
     "iopub.status.busy": "2022-05-18T14:20:53.183073Z",
     "iopub.status.idle": "2022-05-18T14:20:53.187745Z",
     "shell.execute_reply": "2022-05-18T14:20:53.186969Z"
    },
    "papermill": {
     "duration": 0.048621,
     "end_time": "2022-05-18T14:20:53.189171",
     "exception": false,
     "start_time": "2022-05-18T14:20:53.140550",
     "status": "completed"
    },
    "tags": []
   },
   "outputs": [
    {
     "data": {
      "text/plain": [
       "(303, 14)"
      ]
     },
     "execution_count": 4,
     "metadata": {},
     "output_type": "execute_result"
    }
   ],
   "source": [
    "data.shape"
   ]
  },
  {
   "cell_type": "code",
   "execution_count": 5,
   "id": "72d7af86",
   "metadata": {
    "execution": {
     "iopub.execute_input": "2022-05-18T14:20:53.272841Z",
     "iopub.status.busy": "2022-05-18T14:20:53.272054Z",
     "iopub.status.idle": "2022-05-18T14:20:53.278342Z",
     "shell.execute_reply": "2022-05-18T14:20:53.277632Z"
    },
    "papermill": {
     "duration": 0.049708,
     "end_time": "2022-05-18T14:20:53.279744",
     "exception": false,
     "start_time": "2022-05-18T14:20:53.230036",
     "status": "completed"
    },
    "tags": []
   },
   "outputs": [
    {
     "data": {
      "text/plain": [
       "age         0\n",
       "sex         0\n",
       "cp          0\n",
       "trtbps      0\n",
       "chol        0\n",
       "fbs         0\n",
       "restecg     0\n",
       "thalachh    0\n",
       "exng        0\n",
       "oldpeak     0\n",
       "slp         0\n",
       "caa         0\n",
       "thall       0\n",
       "output      0\n",
       "dtype: int64"
      ]
     },
     "execution_count": 5,
     "metadata": {},
     "output_type": "execute_result"
    }
   ],
   "source": [
    "data.isnull().sum()"
   ]
  },
  {
   "cell_type": "markdown",
   "id": "c58f2ec4",
   "metadata": {
    "papermill": {
     "duration": 0.045297,
     "end_time": "2022-05-18T14:20:53.367839",
     "exception": false,
     "start_time": "2022-05-18T14:20:53.322542",
     "status": "completed"
    },
    "tags": []
   },
   "source": [
    "-THERE IS NO MISSING VALUE"
   ]
  },
  {
   "cell_type": "code",
   "execution_count": 6,
   "id": "eb54f166",
   "metadata": {
    "execution": {
     "iopub.execute_input": "2022-05-18T14:20:53.453657Z",
     "iopub.status.busy": "2022-05-18T14:20:53.453457Z",
     "iopub.status.idle": "2022-05-18T14:20:53.475593Z",
     "shell.execute_reply": "2022-05-18T14:20:53.474687Z"
    },
    "papermill": {
     "duration": 0.067264,
     "end_time": "2022-05-18T14:20:53.477420",
     "exception": false,
     "start_time": "2022-05-18T14:20:53.410156",
     "status": "completed"
    },
    "tags": []
   },
   "outputs": [
    {
     "name": "stdout",
     "output_type": "stream",
     "text": [
      "<class 'pandas.core.frame.DataFrame'>\n",
      "RangeIndex: 303 entries, 0 to 302\n",
      "Data columns (total 14 columns):\n",
      " #   Column    Non-Null Count  Dtype  \n",
      "---  ------    --------------  -----  \n",
      " 0   age       303 non-null    int64  \n",
      " 1   sex       303 non-null    int64  \n",
      " 2   cp        303 non-null    int64  \n",
      " 3   trtbps    303 non-null    int64  \n",
      " 4   chol      303 non-null    int64  \n",
      " 5   fbs       303 non-null    int64  \n",
      " 6   restecg   303 non-null    int64  \n",
      " 7   thalachh  303 non-null    int64  \n",
      " 8   exng      303 non-null    int64  \n",
      " 9   oldpeak   303 non-null    float64\n",
      " 10  slp       303 non-null    int64  \n",
      " 11  caa       303 non-null    int64  \n",
      " 12  thall     303 non-null    int64  \n",
      " 13  output    303 non-null    int64  \n",
      "dtypes: float64(1), int64(13)\n",
      "memory usage: 33.3 KB\n"
     ]
    }
   ],
   "source": [
    "data.info()"
   ]
  },
  {
   "cell_type": "code",
   "execution_count": 7,
   "id": "bca5e0da",
   "metadata": {
    "execution": {
     "iopub.execute_input": "2022-05-18T14:20:53.561839Z",
     "iopub.status.busy": "2022-05-18T14:20:53.560994Z",
     "iopub.status.idle": "2022-05-18T14:20:53.601733Z",
     "shell.execute_reply": "2022-05-18T14:20:53.601128Z"
    },
    "papermill": {
     "duration": 0.084874,
     "end_time": "2022-05-18T14:20:53.603471",
     "exception": false,
     "start_time": "2022-05-18T14:20:53.518597",
     "status": "completed"
    },
    "tags": []
   },
   "outputs": [
    {
     "data": {
      "text/html": [
       "<div>\n",
       "<style scoped>\n",
       "    .dataframe tbody tr th:only-of-type {\n",
       "        vertical-align: middle;\n",
       "    }\n",
       "\n",
       "    .dataframe tbody tr th {\n",
       "        vertical-align: top;\n",
       "    }\n",
       "\n",
       "    .dataframe thead th {\n",
       "        text-align: right;\n",
       "    }\n",
       "</style>\n",
       "<table border=\"1\" class=\"dataframe\">\n",
       "  <thead>\n",
       "    <tr style=\"text-align: right;\">\n",
       "      <th></th>\n",
       "      <th>count</th>\n",
       "      <th>mean</th>\n",
       "      <th>std</th>\n",
       "      <th>min</th>\n",
       "      <th>25%</th>\n",
       "      <th>50%</th>\n",
       "      <th>75%</th>\n",
       "      <th>max</th>\n",
       "    </tr>\n",
       "  </thead>\n",
       "  <tbody>\n",
       "    <tr>\n",
       "      <th>age</th>\n",
       "      <td>303.0</td>\n",
       "      <td>54.366337</td>\n",
       "      <td>9.082101</td>\n",
       "      <td>29.0</td>\n",
       "      <td>47.5</td>\n",
       "      <td>55.0</td>\n",
       "      <td>61.0</td>\n",
       "      <td>77.0</td>\n",
       "    </tr>\n",
       "    <tr>\n",
       "      <th>sex</th>\n",
       "      <td>303.0</td>\n",
       "      <td>0.683168</td>\n",
       "      <td>0.466011</td>\n",
       "      <td>0.0</td>\n",
       "      <td>0.0</td>\n",
       "      <td>1.0</td>\n",
       "      <td>1.0</td>\n",
       "      <td>1.0</td>\n",
       "    </tr>\n",
       "    <tr>\n",
       "      <th>cp</th>\n",
       "      <td>303.0</td>\n",
       "      <td>0.966997</td>\n",
       "      <td>1.032052</td>\n",
       "      <td>0.0</td>\n",
       "      <td>0.0</td>\n",
       "      <td>1.0</td>\n",
       "      <td>2.0</td>\n",
       "      <td>3.0</td>\n",
       "    </tr>\n",
       "    <tr>\n",
       "      <th>trtbps</th>\n",
       "      <td>303.0</td>\n",
       "      <td>131.623762</td>\n",
       "      <td>17.538143</td>\n",
       "      <td>94.0</td>\n",
       "      <td>120.0</td>\n",
       "      <td>130.0</td>\n",
       "      <td>140.0</td>\n",
       "      <td>200.0</td>\n",
       "    </tr>\n",
       "    <tr>\n",
       "      <th>chol</th>\n",
       "      <td>303.0</td>\n",
       "      <td>246.264026</td>\n",
       "      <td>51.830751</td>\n",
       "      <td>126.0</td>\n",
       "      <td>211.0</td>\n",
       "      <td>240.0</td>\n",
       "      <td>274.5</td>\n",
       "      <td>564.0</td>\n",
       "    </tr>\n",
       "    <tr>\n",
       "      <th>fbs</th>\n",
       "      <td>303.0</td>\n",
       "      <td>0.148515</td>\n",
       "      <td>0.356198</td>\n",
       "      <td>0.0</td>\n",
       "      <td>0.0</td>\n",
       "      <td>0.0</td>\n",
       "      <td>0.0</td>\n",
       "      <td>1.0</td>\n",
       "    </tr>\n",
       "    <tr>\n",
       "      <th>restecg</th>\n",
       "      <td>303.0</td>\n",
       "      <td>0.528053</td>\n",
       "      <td>0.525860</td>\n",
       "      <td>0.0</td>\n",
       "      <td>0.0</td>\n",
       "      <td>1.0</td>\n",
       "      <td>1.0</td>\n",
       "      <td>2.0</td>\n",
       "    </tr>\n",
       "    <tr>\n",
       "      <th>thalachh</th>\n",
       "      <td>303.0</td>\n",
       "      <td>149.646865</td>\n",
       "      <td>22.905161</td>\n",
       "      <td>71.0</td>\n",
       "      <td>133.5</td>\n",
       "      <td>153.0</td>\n",
       "      <td>166.0</td>\n",
       "      <td>202.0</td>\n",
       "    </tr>\n",
       "    <tr>\n",
       "      <th>exng</th>\n",
       "      <td>303.0</td>\n",
       "      <td>0.326733</td>\n",
       "      <td>0.469794</td>\n",
       "      <td>0.0</td>\n",
       "      <td>0.0</td>\n",
       "      <td>0.0</td>\n",
       "      <td>1.0</td>\n",
       "      <td>1.0</td>\n",
       "    </tr>\n",
       "    <tr>\n",
       "      <th>oldpeak</th>\n",
       "      <td>303.0</td>\n",
       "      <td>1.039604</td>\n",
       "      <td>1.161075</td>\n",
       "      <td>0.0</td>\n",
       "      <td>0.0</td>\n",
       "      <td>0.8</td>\n",
       "      <td>1.6</td>\n",
       "      <td>6.2</td>\n",
       "    </tr>\n",
       "    <tr>\n",
       "      <th>slp</th>\n",
       "      <td>303.0</td>\n",
       "      <td>1.399340</td>\n",
       "      <td>0.616226</td>\n",
       "      <td>0.0</td>\n",
       "      <td>1.0</td>\n",
       "      <td>1.0</td>\n",
       "      <td>2.0</td>\n",
       "      <td>2.0</td>\n",
       "    </tr>\n",
       "    <tr>\n",
       "      <th>caa</th>\n",
       "      <td>303.0</td>\n",
       "      <td>0.729373</td>\n",
       "      <td>1.022606</td>\n",
       "      <td>0.0</td>\n",
       "      <td>0.0</td>\n",
       "      <td>0.0</td>\n",
       "      <td>1.0</td>\n",
       "      <td>4.0</td>\n",
       "    </tr>\n",
       "    <tr>\n",
       "      <th>thall</th>\n",
       "      <td>303.0</td>\n",
       "      <td>2.313531</td>\n",
       "      <td>0.612277</td>\n",
       "      <td>0.0</td>\n",
       "      <td>2.0</td>\n",
       "      <td>2.0</td>\n",
       "      <td>3.0</td>\n",
       "      <td>3.0</td>\n",
       "    </tr>\n",
       "    <tr>\n",
       "      <th>output</th>\n",
       "      <td>303.0</td>\n",
       "      <td>0.544554</td>\n",
       "      <td>0.498835</td>\n",
       "      <td>0.0</td>\n",
       "      <td>0.0</td>\n",
       "      <td>1.0</td>\n",
       "      <td>1.0</td>\n",
       "      <td>1.0</td>\n",
       "    </tr>\n",
       "  </tbody>\n",
       "</table>\n",
       "</div>"
      ],
      "text/plain": [
       "          count        mean        std    min    25%    50%    75%    max\n",
       "age       303.0   54.366337   9.082101   29.0   47.5   55.0   61.0   77.0\n",
       "sex       303.0    0.683168   0.466011    0.0    0.0    1.0    1.0    1.0\n",
       "cp        303.0    0.966997   1.032052    0.0    0.0    1.0    2.0    3.0\n",
       "trtbps    303.0  131.623762  17.538143   94.0  120.0  130.0  140.0  200.0\n",
       "chol      303.0  246.264026  51.830751  126.0  211.0  240.0  274.5  564.0\n",
       "fbs       303.0    0.148515   0.356198    0.0    0.0    0.0    0.0    1.0\n",
       "restecg   303.0    0.528053   0.525860    0.0    0.0    1.0    1.0    2.0\n",
       "thalachh  303.0  149.646865  22.905161   71.0  133.5  153.0  166.0  202.0\n",
       "exng      303.0    0.326733   0.469794    0.0    0.0    0.0    1.0    1.0\n",
       "oldpeak   303.0    1.039604   1.161075    0.0    0.0    0.8    1.6    6.2\n",
       "slp       303.0    1.399340   0.616226    0.0    1.0    1.0    2.0    2.0\n",
       "caa       303.0    0.729373   1.022606    0.0    0.0    0.0    1.0    4.0\n",
       "thall     303.0    2.313531   0.612277    0.0    2.0    2.0    3.0    3.0\n",
       "output    303.0    0.544554   0.498835    0.0    0.0    1.0    1.0    1.0"
      ]
     },
     "execution_count": 7,
     "metadata": {},
     "output_type": "execute_result"
    }
   ],
   "source": [
    "data.describe().transpose()"
   ]
  },
  {
   "cell_type": "markdown",
   "id": "f834bda7",
   "metadata": {
    "papermill": {
     "duration": 0.042218,
     "end_time": "2022-05-18T14:20:53.688441",
     "exception": false,
     "start_time": "2022-05-18T14:20:53.646223",
     "status": "completed"
    },
    "tags": []
   },
   "source": [
    "# 2.DATA VISUALIZATION <a id=2></a>"
   ]
  },
  {
   "cell_type": "code",
   "execution_count": 8,
   "id": "bb9163d2",
   "metadata": {
    "execution": {
     "iopub.execute_input": "2022-05-18T14:20:53.775505Z",
     "iopub.status.busy": "2022-05-18T14:20:53.774453Z",
     "iopub.status.idle": "2022-05-18T14:20:54.229419Z",
     "shell.execute_reply": "2022-05-18T14:20:54.228636Z"
    },
    "papermill": {
     "duration": 0.500896,
     "end_time": "2022-05-18T14:20:54.231661",
     "exception": false,
     "start_time": "2022-05-18T14:20:53.730765",
     "status": "completed"
    },
    "tags": []
   },
   "outputs": [
    {
     "data": {
      "image/png": "[encoded data removed]",
      "text/plain": [
       "<Figure size 1080x1080 with 1 Axes>"
      ]
     },
     "metadata": {
      "needs_background": "light"
     },
     "output_type": "display_data"
    }
   ],
   "source": [
    "data[\"number\"]=np.ones(len(data)).astype(\"int64\",copy=True) #I ADDED A COLUMN WHICH CONSIST OF ONES \n",
    "data1=data.groupby([\"age\"]).sum().reset_index()\n",
    "plt.figure(figsize=(15,15))\n",
    "sns.barplot(x=data1.age,y=data1.number,data=data1)\n",
    "plt.xlabel(\"AGE\")\n",
    "plt.ylabel(\"DEATH PEOPLE\")\n",
    "plt.title(\"NUMBER OF HEART ATTACKED BY AGE \")\n",
    "plt.show()"
   ]
  },
  {
   "cell_type": "markdown",
   "id": "bc266490",
   "metadata": {
    "papermill": {
     "duration": 0.0666,
     "end_time": "2022-05-18T14:20:54.365242",
     "exception": false,
     "start_time": "2022-05-18T14:20:54.298642",
     "status": "completed"
    },
    "tags": []
   },
   "source": [
    "-THIS TABLE SHOW US HEART ATTACK BY AGE, WE CAN SEE BETWEEN 50 AND 60 AGE OF PEOPLE HAD HEART ATTACKS MORE"
   ]
  },
  {
   "cell_type": "code",
   "execution_count": 9,
   "id": "7787eedd",
   "metadata": {
    "execution": {
     "iopub.execute_input": "2022-05-18T14:20:54.500793Z",
     "iopub.status.busy": "2022-05-18T14:20:54.500262Z",
     "iopub.status.idle": "2022-05-18T14:20:54.871628Z",
     "shell.execute_reply": "2022-05-18T14:20:54.870932Z"
    },
    "papermill": {
     "duration": 0.441764,
     "end_time": "2022-05-18T14:20:54.873492",
     "exception": false,
     "start_time": "2022-05-18T14:20:54.431728",
     "status": "completed"
    },
    "tags": []
   },
   "outputs": [
    {
     "data": {
      "image/png": "[encoded data removed]",
      "text/plain": [
       "<Figure size 1080x1080 with 1 Axes>"
      ]
     },
     "metadata": {
      "needs_background": "light"
     },
     "output_type": "display_data"
    }
   ],
   "source": [
    "data1=data[data[\"output\"]==1].groupby([\"age\"]).sum().reset_index()\n",
    "plt.figure(figsize=(15,15))\n",
    "sns.barplot(x=data1.age,y=data1.number,data=data1)\n",
    "plt.xlabel(\"AGE\")\n",
    "plt.ylabel(\"DEATH PEOPLE\")\n",
    "plt.title(\"NUMBER OF DEATH ATTACKED BY AGE \")\n",
    "plt.show()\n"
   ]
  },
  {
   "cell_type": "markdown",
   "id": "8b93ce68",
   "metadata": {
    "papermill": {
     "duration": 0.067783,
     "end_time": "2022-05-18T14:20:55.009451",
     "exception": false,
     "start_time": "2022-05-18T14:20:54.941668",
     "status": "completed"
    },
    "tags": []
   },
   "source": [
    "-WE CAN SEE AGAIN BETWEEN 50 AND 60 AGE OF PEOPLE DIED DUE TO HEART ATTACK."
   ]
  },
  {
   "cell_type": "code",
   "execution_count": 10,
   "id": "aaa02229",
   "metadata": {
    "execution": {
     "iopub.execute_input": "2022-05-18T14:20:55.148517Z",
     "iopub.status.busy": "2022-05-18T14:20:55.148148Z",
     "iopub.status.idle": "2022-05-18T14:20:55.157513Z",
     "shell.execute_reply": "2022-05-18T14:20:55.157118Z"
    },
    "papermill": {
     "duration": 0.080958,
     "end_time": "2022-05-18T14:20:55.159616",
     "exception": false,
     "start_time": "2022-05-18T14:20:55.078658",
     "status": "completed"
    },
    "tags": []
   },
   "outputs": [],
   "source": [
    "data1=data[data[\"output\"]==0].groupby([\"sex\"]).sum().reset_index()[[\"sex\",\"number\"]]\n",
    "data2=data[data[\"output\"]==1].groupby([\"sex\"]).sum().reset_index()[[\"sex\",\"number\"]]"
   ]
  },
  {
   "cell_type": "code",
   "execution_count": 11,
   "id": "29ef3250",
   "metadata": {
    "execution": {
     "iopub.execute_input": "2022-05-18T14:20:55.301212Z",
     "iopub.status.busy": "2022-05-18T14:20:55.300906Z",
     "iopub.status.idle": "2022-05-18T14:20:55.476801Z",
     "shell.execute_reply": "2022-05-18T14:20:55.475926Z"
    },
    "papermill": {
     "duration": 0.252787,
     "end_time": "2022-05-18T14:20:55.479993",
     "exception": false,
     "start_time": "2022-05-18T14:20:55.227206",
     "status": "completed"
    },
    "tags": []
   },
   "outputs": [
    {
     "data": {
      "image/png": "[encoded data removed]",
      "text/plain": [
       "<Figure size 720x720 with 2 Axes>"
      ]
     },
     "metadata": {},
     "output_type": "display_data"
    }
   ],
   "source": [
    "plt.figure(figsize=(10,10))\n",
    "plt.subplot(1, 2, 1)\n",
    "plt.pie(data1[\"number\"],autopct = '%0.0f%%',labels=(\"WOMAN\",\"MAN\"), shadow=True,explode=[0.1,0])\n",
    "plt.title(\"NUMBER OF NON-DEADS BY GENDER\")\n",
    "plt.subplot(1, 2, 2)\n",
    "plt.pie(data2[\"number\"],autopct = '%0.0f%%',labels=(\"WOMAN\",\"MAN\"), shadow=True,explode=[0.1,0],startangle=-50)\n",
    "plt.title(\"NUMBER OF DEATH BY GENDER\")\n",
    "plt.show()\n"
   ]
  },
  {
   "cell_type": "markdown",
   "id": "f46daed5",
   "metadata": {
    "papermill": {
     "duration": 0.068825,
     "end_time": "2022-05-18T14:20:55.631069",
     "exception": false,
     "start_time": "2022-05-18T14:20:55.562244",
     "status": "completed"
    },
    "tags": []
   },
   "source": [
    "-THE PEOPLE WHO HAVE BOTH HEART ATTACK AND DIE OF HEART ATTACK ARE MOSTLY MEN."
   ]
  },
  {
   "cell_type": "code",
   "execution_count": 12,
   "id": "c93f32b6",
   "metadata": {
    "execution": {
     "iopub.execute_input": "2022-05-18T14:20:55.773010Z",
     "iopub.status.busy": "2022-05-18T14:20:55.772703Z",
     "iopub.status.idle": "2022-05-18T14:20:56.052565Z",
     "shell.execute_reply": "2022-05-18T14:20:56.051992Z"
    },
    "papermill": {
     "duration": 0.353857,
     "end_time": "2022-05-18T14:20:56.054659",
     "exception": false,
     "start_time": "2022-05-18T14:20:55.700802",
     "status": "completed"
    },
    "tags": []
   },
   "outputs": [
    {
     "data": {
      "image/png": "[encoded data removed]",
      "text/plain": [
       "<Figure size 1080x720 with 2 Axes>"
      ]
     },
     "metadata": {
      "needs_background": "light"
     },
     "output_type": "display_data"
    }
   ],
   "source": [
    "data4=data.groupby([\"cp\"]).sum().reset_index()[[\"cp\",\"number\"]]\n",
    "data5=data[data[\"output\"]==1].groupby([\"cp\"]).sum().reset_index()[[\"cp\",\"number\"]]\n",
    "plt.figure(figsize=(15,10))\n",
    "plt.subplot(1,2,1)\n",
    "sns.barplot(x=[\"Typical Angina\",\"Atypical Angina\",\"Non-anginal Pain\",\"Asymptomatic\"],y=data4.number,data=data4)\n",
    "plt.xlabel(\"CP TYPE\")\n",
    "plt.title(\"NUMBER OF HEART ATTACK BY CP TYPE\")\n",
    "plt.subplot(1,2,2)\n",
    "sns.barplot(x=[\"Typical Angina\",\"Atypical Angina\",\"Non-anginal Pain\",\"Asymptomatic\"],y=data5.number,data=data5)\n",
    "plt.xlabel(\"CP TYPE\")\n",
    "plt.title(\"NUMBER OF DEATH BY CP TYPE\")\n",
    "plt.show()\n"
   ]
  },
  {
   "cell_type": "markdown",
   "id": "dc7d8fdb",
   "metadata": {
    "papermill": {
     "duration": 0.069484,
     "end_time": "2022-05-18T14:20:56.194440",
     "exception": false,
     "start_time": "2022-05-18T14:20:56.124956",
     "status": "completed"
    },
    "tags": []
   },
   "source": [
    "-THOSE GRAPHICS SHOW US WHICH CHEST PAIN TYPE PEOPLE HEART ATTACK OR DIED"
   ]
  },
  {
   "cell_type": "code",
   "execution_count": 13,
   "id": "07b32a34",
   "metadata": {
    "execution": {
     "iopub.execute_input": "2022-05-18T14:20:56.336115Z",
     "iopub.status.busy": "2022-05-18T14:20:56.335414Z",
     "iopub.status.idle": "2022-05-18T14:20:56.499292Z",
     "shell.execute_reply": "2022-05-18T14:20:56.498533Z"
    },
    "papermill": {
     "duration": 0.236114,
     "end_time": "2022-05-18T14:20:56.500806",
     "exception": false,
     "start_time": "2022-05-18T14:20:56.264692",
     "status": "completed"
    },
    "tags": []
   },
   "outputs": [
    {
     "data": {
      "image/png": "[encoded data removed]",
      "text/plain": [
       "<Figure size 720x720 with 1 Axes>"
      ]
     },
     "metadata": {
      "needs_background": "light"
     },
     "output_type": "display_data"
    }
   ],
   "source": [
    "data6=round(data5.number/data4.number*100,0)\n",
    "data6=data6.reset_index()\n",
    "plt.figure(figsize=(10,10))\n",
    "sns.barplot(x=[\"Typical Angina\",\"Atypical Angina\",\"Non-anginal Pain\",\"Asymptomatic\"],y=data6[\"number\"])\n",
    "plt.title(\"NUMBER OF DEATH BY PERCENT\")\n",
    "plt.show()\n"
   ]
  },
  {
   "cell_type": "markdown",
   "id": "8a9cd770",
   "metadata": {
    "papermill": {
     "duration": 0.046715,
     "end_time": "2022-05-18T14:20:56.594091",
     "exception": false,
     "start_time": "2022-05-18T14:20:56.547376",
     "status": "completed"
    },
    "tags": []
   },
   "source": [
    "-ATYPICAL ANGINA WHICH IS CHEST PAIN TYPE IS MORE SERIOUSLY THAN OTHERS."
   ]
  },
  {
   "cell_type": "code",
   "execution_count": 14,
   "id": "000abbf8",
   "metadata": {
    "execution": {
     "iopub.execute_input": "2022-05-18T14:20:56.689481Z",
     "iopub.status.busy": "2022-05-18T14:20:56.689205Z",
     "iopub.status.idle": "2022-05-18T14:20:57.581520Z",
     "shell.execute_reply": "2022-05-18T14:20:57.580846Z"
    },
    "papermill": {
     "duration": 0.942398,
     "end_time": "2022-05-18T14:20:57.582987",
     "exception": false,
     "start_time": "2022-05-18T14:20:56.640589",
     "status": "completed"
    },
    "tags": []
   },
   "outputs": [
    {
     "data": {
      "image/png": "[encoded data removed]",
      "text/plain": [
       "<Figure size 864x720 with 2 Axes>"
      ]
     },
     "metadata": {
      "needs_background": "light"
     },
     "output_type": "display_data"
    }
   ],
   "source": [
    "plt.figure(figsize=(12,10))\n",
    "sns.heatmap(data.corr(),annot=True)\n",
    "plt.show()"
   ]
  },
  {
   "cell_type": "markdown",
   "id": "be8f9dd6",
   "metadata": {
    "papermill": {
     "duration": 0.050314,
     "end_time": "2022-05-18T14:20:57.683310",
     "exception": false,
     "start_time": "2022-05-18T14:20:57.632996",
     "status": "completed"
    },
    "tags": []
   },
   "source": [
    "-THIS CORRELATION MATRIX SHOWS THAT HEART ATTACK DEPENDS ON cp(CHEST PAIN),thalachh(MAXIMUM HEART RATE ACHIEVED),slp(Slope)"
   ]
  },
  {
   "cell_type": "markdown",
   "id": "0eb29ba1",
   "metadata": {
    "papermill": {
     "duration": 0.047434,
     "end_time": "2022-05-18T14:20:57.780510",
     "exception": false,
     "start_time": "2022-05-18T14:20:57.733076",
     "status": "completed"
    },
    "tags": []
   },
   "source": [
    "# 3.MACHINE LEARNING <a id=3></a>"
   ]
  },
  {
   "cell_type": "code",
   "execution_count": 15,
   "id": "ce5a2939",
   "metadata": {
    "execution": {
     "iopub.execute_input": "2022-05-18T14:20:57.881056Z",
     "iopub.status.busy": "2022-05-18T14:20:57.880570Z",
     "iopub.status.idle": "2022-05-18T14:20:58.068234Z",
     "shell.execute_reply": "2022-05-18T14:20:58.067245Z"
    },
    "papermill": {
     "duration": 0.24046,
     "end_time": "2022-05-18T14:20:58.069961",
     "exception": false,
     "start_time": "2022-05-18T14:20:57.829501",
     "status": "completed"
    },
    "tags": []
   },
   "outputs": [],
   "source": [
    "from sklearn.model_selection import train_test_split \n",
    "x=data.iloc[:,0:-2]\n",
    "y=data.iloc[:,-2]\n",
    "x_train,x_test,y_train,y_test=train_test_split(x,y,random_state=42,test_size=0.25)"
   ]
  },
  {
   "cell_type": "code",
   "execution_count": 16,
   "id": "10e47577",
   "metadata": {
    "execution": {
     "iopub.execute_input": "2022-05-18T14:20:58.172148Z",
     "iopub.status.busy": "2022-05-18T14:20:58.171918Z",
     "iopub.status.idle": "2022-05-18T14:20:58.185304Z",
     "shell.execute_reply": "2022-05-18T14:20:58.184259Z"
    },
    "papermill": {
     "duration": 0.066519,
     "end_time": "2022-05-18T14:20:58.187423",
     "exception": false,
     "start_time": "2022-05-18T14:20:58.120904",
     "status": "completed"
    },
    "tags": []
   },
   "outputs": [],
   "source": [
    "from sklearn.preprocessing import StandardScaler\n",
    "x_train=StandardScaler().fit_transform(x_train)\n",
    "x_test=StandardScaler().fit_transform(x_test)"
   ]
  },
  {
   "cell_type": "code",
   "execution_count": 17,
   "id": "8a27ed73",
   "metadata": {
    "execution": {
     "iopub.execute_input": "2022-05-18T14:20:58.289162Z",
     "iopub.status.busy": "2022-05-18T14:20:58.288859Z",
     "iopub.status.idle": "2022-05-18T14:20:58.294764Z",
     "shell.execute_reply": "2022-05-18T14:20:58.293554Z"
    },
    "papermill": {
     "duration": 0.058851,
     "end_time": "2022-05-18T14:20:58.296804",
     "exception": false,
     "start_time": "2022-05-18T14:20:58.237953",
     "status": "completed"
    },
    "tags": []
   },
   "outputs": [],
   "source": [
    "from sklearn.model_selection import GridSearchCV\n",
    "from sklearn.metrics import accuracy_score\n"
   ]
  },
  {
   "cell_type": "markdown",
   "id": "ba8f8827",
   "metadata": {
    "papermill": {
     "duration": 0.050009,
     "end_time": "2022-05-18T14:20:58.397189",
     "exception": false,
     "start_time": "2022-05-18T14:20:58.347180",
     "status": "completed"
    },
    "tags": []
   },
   "source": [
    "# 3.1 Support Vector Machine <a id=4></a>"
   ]
  },
  {
   "cell_type": "code",
   "execution_count": 18,
   "id": "67490ae9",
   "metadata": {
    "execution": {
     "iopub.execute_input": "2022-05-18T14:20:58.498374Z",
     "iopub.status.busy": "2022-05-18T14:20:58.498157Z",
     "iopub.status.idle": "2022-05-18T14:20:59.318954Z",
     "shell.execute_reply": "2022-05-18T14:20:59.317649Z"
    },
    "papermill": {
     "duration": 0.874401,
     "end_time": "2022-05-18T14:20:59.321496",
     "exception": false,
     "start_time": "2022-05-18T14:20:58.447095",
     "status": "completed"
    },
    "tags": []
   },
   "outputs": [
    {
     "name": "stdout",
     "output_type": "stream",
     "text": [
      "Accuracy score before the GridSearch method 0.8552631578947368\n",
      "Accuracy score after the GridSearch method 0.8552631578947368\n",
      "best parameters {'C': 3, 'gamma': 0.01, 'kernel': 'rbf'}\n"
     ]
    }
   ],
   "source": [
    "from sklearn.svm import SVC\n",
    "svc=SVC(C=1,gamma=0.05,kernel=\"rbf\",random_state=42)\n",
    "svc.fit(x_train,y_train)\n",
    "print(\"Accuracy score before the GridSearch method\",accuracy_score(y_test,svc.predict(x_test)))\n",
    "SVC=SVC()\n",
    "parameters = {\"kernel\":('rbf','linear'),\"C\":np.arange(1,5,1),'gamma':[0.00001,0.005,0.01,0.05,0.1,0.5]}\n",
    "GSCV=GridSearchCV(SVC,parameters)\n",
    "GSCV.fit(x_train,y_train)\n",
    "y_pred = GSCV.predict(x_test)\n",
    "print(\"Accuracy score after the GridSearch method\",accuracy_score(y_test,y_pred))\n",
    "SVC_SCORE=(accuracy_score(y_test,y_pred))\n",
    "print(\"best parameters\",GSCV.best_params_)\n",
    "\n",
    "\n",
    " "
   ]
  },
  {
   "cell_type": "markdown",
   "id": "62c9979e",
   "metadata": {
    "papermill": {
     "duration": 0.075166,
     "end_time": "2022-05-18T14:20:59.471350",
     "exception": false,
     "start_time": "2022-05-18T14:20:59.396184",
     "status": "completed"
    },
    "tags": []
   },
   "source": [
    "# 3.2 RandomForest <a id=5></a>"
   ]
  },
  {
   "cell_type": "code",
   "execution_count": 19,
   "id": "07f8cdd8",
   "metadata": {
    "execution": {
     "iopub.execute_input": "2022-05-18T14:20:59.623539Z",
     "iopub.status.busy": "2022-05-18T14:20:59.623298Z",
     "iopub.status.idle": "2022-05-18T14:21:15.843137Z",
     "shell.execute_reply": "2022-05-18T14:21:15.841843Z"
    },
    "papermill": {
     "duration": 16.299304,
     "end_time": "2022-05-18T14:21:15.846145",
     "exception": false,
     "start_time": "2022-05-18T14:20:59.546841",
     "status": "completed"
    },
    "tags": []
   },
   "outputs": [
    {
     "name": "stdout",
     "output_type": "stream",
     "text": [
      "Accuracy score before the GridSearch method 0.8157894736842105\n",
      "Accuracy score after the GridSearch method 0.8421052631578947\n",
      "best parameters {'criterion': 'gini', 'n_estimators': 14}\n"
     ]
    }
   ],
   "source": [
    "from sklearn.ensemble import RandomForestClassifier\n",
    "RFC=RandomForestClassifier(random_state=42)\n",
    "RFC.fit(x_train,y_train)\n",
    "print(\"Accuracy score before the GridSearch method\",accuracy_score(y_test,RFC.predict(x_test)))\n",
    "\n",
    "rfc=RandomForestClassifier(random_state=42)\n",
    "parameters = {\"criterion\":[\"entropy\",\"gini\"],\"n_estimators\":np.arange(1,50,1)}\n",
    "GSCV=GridSearchCV(rfc,parameters)\n",
    "GSCV.fit(x_train,y_train)\n",
    "y_pred=GSCV.predict(x_test)\n",
    "print(\"Accuracy score after the GridSearch method\",accuracy_score(y_test,y_pred))\n",
    "RandomForest_SCORE=(accuracy_score(y_test,y_pred))\n",
    "print(\"best parameters\",GSCV.best_params_)\n",
    "\n",
    "\n",
    " "
   ]
  },
  {
   "cell_type": "markdown",
   "id": "08b8ac9c",
   "metadata": {
    "papermill": {
     "duration": 0.051351,
     "end_time": "2022-05-18T14:21:15.949963",
     "exception": false,
     "start_time": "2022-05-18T14:21:15.898612",
     "status": "completed"
    },
    "tags": []
   },
   "source": [
    "# 3.3 GradientBoosting <a id=6></a>"
   ]
  },
  {
   "cell_type": "code",
   "execution_count": 20,
   "id": "08a6f2d4",
   "metadata": {
    "execution": {
     "iopub.execute_input": "2022-05-18T14:21:16.054615Z",
     "iopub.status.busy": "2022-05-18T14:21:16.054388Z",
     "iopub.status.idle": "2022-05-18T14:21:25.806753Z",
     "shell.execute_reply": "2022-05-18T14:21:25.805780Z"
    },
    "papermill": {
     "duration": 9.807979,
     "end_time": "2022-05-18T14:21:25.809386",
     "exception": false,
     "start_time": "2022-05-18T14:21:16.001407",
     "status": "completed"
    },
    "tags": []
   },
   "outputs": [
    {
     "name": "stdout",
     "output_type": "stream",
     "text": [
      "Accuracy score before the GridSearch method 0.7763157894736842\n",
      "Accuracy score after the GridSearch method 0.8421052631578947\n",
      "best parameters {'criterion': 'squared_error', 'n_estimators': 39}\n"
     ]
    }
   ],
   "source": [
    "from sklearn.ensemble import GradientBoostingClassifier\n",
    "GBC=GradientBoostingClassifier(random_state=42)\n",
    "GBC.fit(x_train,y_train)\n",
    "print(\"Accuracy score before the GridSearch method\",accuracy_score(y_test,GBC.predict(x_test)))\n",
    "\n",
    "rfc=GradientBoostingClassifier(random_state=42)\n",
    "parameters = {\"criterion\":[\"squared_error\",\"mse\"],\"n_estimators\":np.arange(1,50,1)}\n",
    "GSCV=GridSearchCV(rfc,parameters)\n",
    "GSCV.fit(x_train,y_train)\n",
    "y_pred=GSCV.predict(x_test)\n",
    "print(\"Accuracy score after the GridSearch method\",accuracy_score(y_test,y_pred))\n",
    "GradientBoosting_SCORE=(accuracy_score(y_test,y_pred))\n",
    "print(\"best parameters\",GSCV.best_params_)"
   ]
  },
  {
   "cell_type": "markdown",
   "id": "644a7766",
   "metadata": {
    "papermill": {
     "duration": 0.051841,
     "end_time": "2022-05-18T14:21:25.914272",
     "exception": false,
     "start_time": "2022-05-18T14:21:25.862431",
     "status": "completed"
    },
    "tags": []
   },
   "source": [
    "# 3.4 XGBoosT <a id=7></a> "
   ]
  },
  {
   "cell_type": "code",
   "execution_count": 21,
   "id": "5c4529c9",
   "metadata": {
    "execution": {
     "iopub.execute_input": "2022-05-18T14:21:26.019945Z",
     "iopub.status.busy": "2022-05-18T14:21:26.019718Z",
     "iopub.status.idle": "2022-05-18T14:21:26.434348Z",
     "shell.execute_reply": "2022-05-18T14:21:26.433917Z"
    },
    "papermill": {
     "duration": 0.470641,
     "end_time": "2022-05-18T14:21:26.436816",
     "exception": false,
     "start_time": "2022-05-18T14:21:25.966175",
     "status": "completed"
    },
    "tags": []
   },
   "outputs": [
    {
     "name": "stdout",
     "output_type": "stream",
     "text": [
      "Accuracy score 0.8289473684210527\n"
     ]
    }
   ],
   "source": [
    "from xgboost import XGBClassifier\n",
    "XGB=XGBClassifier(random_state=42)\n",
    "XGB.fit(x_train,y_train)\n",
    "y_pred=XGB.predict(x_test)\n",
    "print(\"Accuracy score\",accuracy_score(y_test,y_pred))\n",
    "XGBClassifier_SCORE=(accuracy_score(y_test,y_pred))\n"
   ]
  },
  {
   "cell_type": "markdown",
   "id": "fe0840a2",
   "metadata": {
    "papermill": {
     "duration": 0.077553,
     "end_time": "2022-05-18T14:21:26.593136",
     "exception": false,
     "start_time": "2022-05-18T14:21:26.515583",
     "status": "completed"
    },
    "tags": []
   },
   "source": [
    "# 3.5 CATBoosT <a id=8></a> "
   ]
  },
  {
   "cell_type": "code",
   "execution_count": 22,
   "id": "2b481de2",
   "metadata": {
    "execution": {
     "iopub.execute_input": "2022-05-18T14:21:26.749301Z",
     "iopub.status.busy": "2022-05-18T14:21:26.749038Z",
     "iopub.status.idle": "2022-05-18T14:21:27.309965Z",
     "shell.execute_reply": "2022-05-18T14:21:27.309314Z"
    },
    "papermill": {
     "duration": 0.641919,
     "end_time": "2022-05-18T14:21:27.312173",
     "exception": false,
     "start_time": "2022-05-18T14:21:26.670254",
     "status": "completed"
    },
    "tags": []
   },
   "outputs": [
    {
     "name": "stdout",
     "output_type": "stream",
     "text": [
      "Accuracy score 0.8289473684210527\n"
     ]
    }
   ],
   "source": [
    "from catboost import CatBoostClassifier\n",
    "CB=XGBClassifier(random_state=42)\n",
    "CB.fit(x_train,y_train)\n",
    "y_pred=CB.predict(x_test)\n",
    "print(\"Accuracy score\",accuracy_score(y_test,y_pred))\n",
    "CatBoost_SCORE=(accuracy_score(y_test,y_pred))\n"
   ]
  },
  {
   "cell_type": "markdown",
   "id": "707163d7",
   "metadata": {
    "papermill": {
     "duration": 0.077896,
     "end_time": "2022-05-18T14:21:27.468271",
     "exception": false,
     "start_time": "2022-05-18T14:21:27.390375",
     "status": "completed"
    },
    "tags": []
   },
   "source": [
    "# 4.DEEP LEARNING <a id=9></a>"
   ]
  },
  {
   "cell_type": "markdown",
   "id": "ebb86bbb",
   "metadata": {
    "papermill": {
     "duration": 0.078281,
     "end_time": "2022-05-18T14:21:27.625001",
     "exception": false,
     "start_time": "2022-05-18T14:21:27.546720",
     "status": "completed"
    },
    "tags": []
   },
   "source": [
    "# 4.1 MODEL <a id=10></a>"
   ]
  },
  {
   "cell_type": "code",
   "execution_count": 23,
   "id": "3eaf7df4",
   "metadata": {
    "execution": {
     "iopub.execute_input": "2022-05-18T14:21:27.782455Z",
     "iopub.status.busy": "2022-05-18T14:21:27.782096Z",
     "iopub.status.idle": "2022-05-18T14:21:33.670418Z",
     "shell.execute_reply": "2022-05-18T14:21:33.669960Z"
    },
    "papermill": {
     "duration": 5.969188,
     "end_time": "2022-05-18T14:21:33.672181",
     "exception": false,
     "start_time": "2022-05-18T14:21:27.702993",
     "status": "completed"
    },
    "tags": []
   },
   "outputs": [],
   "source": [
    "from tensorflow.keras.models import Sequential\n",
    "from tensorflow.keras.layers import Dense"
   ]
  },
  {
   "cell_type": "code",
   "execution_count": 24,
   "id": "34b9fbb8",
   "metadata": {
    "execution": {
     "iopub.execute_input": "2022-05-18T14:21:33.776329Z",
     "iopub.status.busy": "2022-05-18T14:21:33.776095Z",
     "iopub.status.idle": "2022-05-18T14:21:33.848050Z",
     "shell.execute_reply": "2022-05-18T14:21:33.847065Z"
    },
    "papermill": {
     "duration": 0.128493,
     "end_time": "2022-05-18T14:21:33.851037",
     "exception": false,
     "start_time": "2022-05-18T14:21:33.722544",
     "status": "completed"
    },
    "tags": []
   },
   "outputs": [
    {
     "name": "stderr",
     "output_type": "stream",
     "text": [
      "2022-05-18 14:21:33.806986: I tensorflow/core/common_runtime/process_util.cc:146] Creating new thread pool with default inter op setting: 2. Tune using inter_op_parallelism_threads for best performance.\n"
     ]
    }
   ],
   "source": [
    "model=Sequential()\n",
    "model.add(Dense(13,activation=\"relu\"))\n",
    "model.add(Dense(10,activation=\"relu\"))\n",
    "model.add(Dense(8,activation=\"relu\"))\n",
    "model.add(Dense(8,activation=\"relu\"))\n",
    "model.add(Dense(1,activation=\"sigmoid\"))\n",
    "model.compile(optimizer=\"adam\",loss=\"binary_crossentropy\",metrics=['accuracy']) \n",
    "#WE USED sigmoid and binary_crossentropy BECAUSE OF OUR OUTPUT CONSISTED OF 0-1\n"
   ]
  },
  {
   "cell_type": "code",
   "execution_count": 25,
   "id": "499f7809",
   "metadata": {
    "execution": {
     "iopub.execute_input": "2022-05-18T14:21:33.988396Z",
     "iopub.status.busy": "2022-05-18T14:21:33.987609Z",
     "iopub.status.idle": "2022-05-18T14:21:44.910418Z",
     "shell.execute_reply": "2022-05-18T14:21:44.909209Z"
    },
    "papermill": {
     "duration": 11.008163,
     "end_time": "2022-05-18T14:21:44.913146",
     "exception": false,
     "start_time": "2022-05-18T14:21:33.904983",
     "status": "completed"
    },
    "tags": []
   },
   "outputs": [
    {
     "name": "stderr",
     "output_type": "stream",
     "text": [
      "2022-05-18 14:21:34.065291: I tensorflow/compiler/mlir/mlir_graph_optimization_pass.cc:185] None of the MLIR Optimization Passes are enabled (registered 2)\n"
     ]
    }
   ],
   "source": [
    "history=model.fit(x=x_train,y=y_train,validation_data=(x_test,y_test),epochs=100,verbose=0)"
   ]
  },
  {
   "cell_type": "code",
   "execution_count": 26,
   "id": "a897ff4c",
   "metadata": {
    "execution": {
     "iopub.execute_input": "2022-05-18T14:21:45.073784Z",
     "iopub.status.busy": "2022-05-18T14:21:45.073575Z",
     "iopub.status.idle": "2022-05-18T14:21:45.196409Z",
     "shell.execute_reply": "2022-05-18T14:21:45.196014Z"
    },
    "papermill": {
     "duration": 0.205693,
     "end_time": "2022-05-18T14:21:45.198517",
     "exception": false,
     "start_time": "2022-05-18T14:21:44.992824",
     "status": "completed"
    },
    "tags": []
   },
   "outputs": [
    {
     "name": "stdout",
     "output_type": "stream",
     "text": [
      "[[27  5]\n",
      " [ 8 36]] ysdaaadddddd\n",
      "Classification on Depp Learning Accuracy score 0.8289473684210527\n"
     ]
    }
   ],
   "source": [
    "y_pred=model.predict(x_test)\n",
    "y_pred=(y_pred>0.5).astype(int)\n",
    "from sklearn.metrics import  confusion_matrix\n",
    "print(confusion_matrix(y_pred,y_test),\"ysdaaadddddd\")\n",
    "print(\"Classification on Depp Learning Accuracy score\",accuracy_score(y_test,y_pred))\n",
    "Deep_Learning_Score=accuracy_score(y_test,y_pred)\n",
    "\n",
    "\n"
   ]
  },
  {
   "cell_type": "markdown",
   "id": "5be76c01",
   "metadata": {
    "papermill": {
     "duration": 0.079455,
     "end_time": "2022-05-18T14:21:45.359012",
     "exception": false,
     "start_time": "2022-05-18T14:21:45.279557",
     "status": "completed"
    },
    "tags": []
   },
   "source": [
    "# 4.2 OVER FITTING PROBLEM <a id=11></a>"
   ]
  },
  {
   "cell_type": "markdown",
   "id": "c8b0e96b",
   "metadata": {
    "papermill": {
     "duration": 0.080801,
     "end_time": "2022-05-18T14:21:45.519362",
     "exception": false,
     "start_time": "2022-05-18T14:21:45.438561",
     "status": "completed"
    },
    "tags": []
   },
   "source": [
    "### Is there overfitting on our deep learning model?"
   ]
  },
  {
   "cell_type": "code",
   "execution_count": 27,
   "id": "1cb2afa8",
   "metadata": {
    "execution": {
     "iopub.execute_input": "2022-05-18T14:21:45.637796Z",
     "iopub.status.busy": "2022-05-18T14:21:45.636637Z",
     "iopub.status.idle": "2022-05-18T14:21:45.797165Z",
     "shell.execute_reply": "2022-05-18T14:21:45.795932Z"
    },
    "papermill": {
     "duration": 0.217525,
     "end_time": "2022-05-18T14:21:45.799855",
     "exception": false,
     "start_time": "2022-05-18T14:21:45.582330",
     "status": "completed"
    },
    "tags": []
   },
   "outputs": [
    {
     "data": {
      "text/plain": [
       "<AxesSubplot:>"
      ]
     },
     "execution_count": 27,
     "metadata": {},
     "output_type": "execute_result"
    },
    {
     "data": {
      "image/png": "[encoded data removed]",
      "text/plain": [
       "<Figure size 432x288 with 1 Axes>"
      ]
     },
     "metadata": {
      "needs_background": "light"
     },
     "output_type": "display_data"
    }
   ],
   "source": [
    "graf=pd.DataFrame(history.history)\n",
    "graf=graf.drop([\"val_accuracy\",\"accuracy\"],axis=1)\n",
    "graf.plot()\n",
    "\n"
   ]
  },
  {
   "cell_type": "markdown",
   "id": "85d8d116",
   "metadata": {
    "papermill": {
     "duration": 0.05372,
     "end_time": "2022-05-18T14:21:45.909838",
     "exception": false,
     "start_time": "2022-05-18T14:21:45.856118",
     "status": "completed"
    },
    "tags": []
   },
   "source": [
    "-THIS CURVE OF VALUE LOSS SHOWS THAT THIS MODEL IS UNBALANCED.SO WE CAN SAY THIS MODEL HAS OVER FITTING SO WE HAVE TO FIX THIS PROBLEM WITH EARLY STOPPING METHOD"
   ]
  },
  {
   "cell_type": "code",
   "execution_count": 28,
   "id": "69b37927",
   "metadata": {
    "execution": {
     "iopub.execute_input": "2022-05-18T14:21:46.019916Z",
     "iopub.status.busy": "2022-05-18T14:21:46.019363Z",
     "iopub.status.idle": "2022-05-18T14:21:46.023456Z",
     "shell.execute_reply": "2022-05-18T14:21:46.022636Z"
    },
    "papermill": {
     "duration": 0.060789,
     "end_time": "2022-05-18T14:21:46.024865",
     "exception": false,
     "start_time": "2022-05-18T14:21:45.964076",
     "status": "completed"
    },
    "tags": []
   },
   "outputs": [],
   "source": [
    "from tensorflow.keras.callbacks import EarlyStopping\n",
    "earlystopping=EarlyStopping(monitor=\"val_loss\",mode=\"min\",verbose=1,patience=25)"
   ]
  },
  {
   "cell_type": "markdown",
   "id": "b2711c10",
   "metadata": {
    "papermill": {
     "duration": 0.054041,
     "end_time": "2022-05-18T14:21:46.134288",
     "exception": false,
     "start_time": "2022-05-18T14:21:46.080247",
     "status": "completed"
    },
    "tags": []
   },
   "source": [
    "-WE USED EARLY STOPPING METHOD IN ORDER TO MAKE MINIMUM val_loss "
   ]
  },
  {
   "cell_type": "code",
   "execution_count": 29,
   "id": "121cceb6",
   "metadata": {
    "execution": {
     "iopub.execute_input": "2022-05-18T14:21:46.244553Z",
     "iopub.status.busy": "2022-05-18T14:21:46.244152Z",
     "iopub.status.idle": "2022-05-18T14:21:46.257382Z",
     "shell.execute_reply": "2022-05-18T14:21:46.256890Z"
    },
    "papermill": {
     "duration": 0.070894,
     "end_time": "2022-05-18T14:21:46.259291",
     "exception": false,
     "start_time": "2022-05-18T14:21:46.188397",
     "status": "completed"
    },
    "tags": []
   },
   "outputs": [],
   "source": [
    "model=Sequential()\n",
    "model.add(Dense(13,activation=\"relu\"))\n",
    "model.add(Dense(10,activation=\"relu\"))\n",
    "model.add(Dense(8,activation=\"relu\"))\n",
    "model.add(Dense(8,activation=\"relu\"))\n",
    "model.add(Dense(1,activation=\"sigmoid\"))\n",
    "model.compile(optimizer=\"adam\",loss=\"binary_crossentropy\",metrics=['accuracy'])"
   ]
  },
  {
   "cell_type": "code",
   "execution_count": 30,
   "id": "0ecd12cd",
   "metadata": {
    "execution": {
     "iopub.execute_input": "2022-05-18T14:21:46.370777Z",
     "iopub.status.busy": "2022-05-18T14:21:46.370541Z",
     "iopub.status.idle": "2022-05-18T14:21:50.697218Z",
     "shell.execute_reply": "2022-05-18T14:21:50.695803Z"
    },
    "papermill": {
     "duration": 4.386019,
     "end_time": "2022-05-18T14:21:50.699827",
     "exception": false,
     "start_time": "2022-05-18T14:21:46.313808",
     "status": "completed"
    },
    "tags": []
   },
   "outputs": [
    {
     "name": "stdout",
     "output_type": "stream",
     "text": [
      "Epoch 1/100\n",
      "8/8 [==============================] - 1s 24ms/step - loss: 0.6818 - accuracy: 0.5639 - val_loss: 0.6855 - val_accuracy: 0.6184\n",
      "Epoch 2/100\n",
      "8/8 [==============================] - 0s 7ms/step - loss: 0.6693 - accuracy: 0.6035 - val_loss: 0.6769 - val_accuracy: 0.6316\n",
      "Epoch 3/100\n",
      "8/8 [==============================] - 0s 6ms/step - loss: 0.6585 - accuracy: 0.5947 - val_loss: 0.6656 - val_accuracy: 0.6316\n",
      "Epoch 4/100\n",
      "8/8 [==============================] - 0s 8ms/step - loss: 0.6465 - accuracy: 0.6167 - val_loss: 0.6538 - val_accuracy: 0.6974\n",
      "Epoch 5/100\n",
      "8/8 [==============================] - 0s 9ms/step - loss: 0.6332 - accuracy: 0.6123 - val_loss: 0.6411 - val_accuracy: 0.6974\n",
      "Epoch 6/100\n",
      "8/8 [==============================] - 0s 8ms/step - loss: 0.6190 - accuracy: 0.6344 - val_loss: 0.6277 - val_accuracy: 0.6974\n",
      "Epoch 7/100\n",
      "8/8 [==============================] - 0s 11ms/step - loss: 0.6035 - accuracy: 0.6608 - val_loss: 0.6109 - val_accuracy: 0.7237\n",
      "Epoch 8/100\n",
      "8/8 [==============================] - 0s 10ms/step - loss: 0.5841 - accuracy: 0.6872 - val_loss: 0.5933 - val_accuracy: 0.7763\n",
      "Epoch 9/100\n",
      "8/8 [==============================] - 0s 7ms/step - loss: 0.5656 - accuracy: 0.6960 - val_loss: 0.5743 - val_accuracy: 0.8289\n",
      "Epoch 10/100\n",
      "8/8 [==============================] - 0s 6ms/step - loss: 0.5456 - accuracy: 0.7445 - val_loss: 0.5548 - val_accuracy: 0.8158\n",
      "Epoch 11/100\n",
      "8/8 [==============================] - 0s 7ms/step - loss: 0.5262 - accuracy: 0.7621 - val_loss: 0.5370 - val_accuracy: 0.8026\n",
      "Epoch 12/100\n",
      "8/8 [==============================] - 0s 14ms/step - loss: 0.5082 - accuracy: 0.7753 - val_loss: 0.5176 - val_accuracy: 0.8026\n",
      "Epoch 13/100\n",
      "8/8 [==============================] - 0s 7ms/step - loss: 0.4877 - accuracy: 0.7841 - val_loss: 0.4994 - val_accuracy: 0.7895\n",
      "Epoch 14/100\n",
      "8/8 [==============================] - 0s 10ms/step - loss: 0.4682 - accuracy: 0.8062 - val_loss: 0.4823 - val_accuracy: 0.8026\n",
      "Epoch 15/100\n",
      "8/8 [==============================] - 0s 7ms/step - loss: 0.4504 - accuracy: 0.8106 - val_loss: 0.4662 - val_accuracy: 0.8158\n",
      "Epoch 16/100\n",
      "8/8 [==============================] - 0s 7ms/step - loss: 0.4351 - accuracy: 0.8062 - val_loss: 0.4556 - val_accuracy: 0.8289\n",
      "Epoch 17/100\n",
      "8/8 [==============================] - 0s 11ms/step - loss: 0.4227 - accuracy: 0.8238 - val_loss: 0.4431 - val_accuracy: 0.8421\n",
      "Epoch 18/100\n",
      "8/8 [==============================] - 0s 9ms/step - loss: 0.4117 - accuracy: 0.8326 - val_loss: 0.4359 - val_accuracy: 0.8421\n",
      "Epoch 19/100\n",
      "8/8 [==============================] - 0s 8ms/step - loss: 0.4044 - accuracy: 0.8282 - val_loss: 0.4306 - val_accuracy: 0.8421\n",
      "Epoch 20/100\n",
      "8/8 [==============================] - 0s 7ms/step - loss: 0.3970 - accuracy: 0.8282 - val_loss: 0.4244 - val_accuracy: 0.8421\n",
      "Epoch 21/100\n",
      "8/8 [==============================] - 0s 7ms/step - loss: 0.3889 - accuracy: 0.8282 - val_loss: 0.4184 - val_accuracy: 0.8289\n",
      "Epoch 22/100\n",
      "8/8 [==============================] - 0s 7ms/step - loss: 0.3805 - accuracy: 0.8326 - val_loss: 0.4119 - val_accuracy: 0.8421\n",
      "Epoch 23/100\n",
      "8/8 [==============================] - 0s 9ms/step - loss: 0.3719 - accuracy: 0.8282 - val_loss: 0.4074 - val_accuracy: 0.8421\n",
      "Epoch 24/100\n",
      "8/8 [==============================] - 0s 7ms/step - loss: 0.3660 - accuracy: 0.8282 - val_loss: 0.4047 - val_accuracy: 0.8553\n",
      "Epoch 25/100\n",
      "8/8 [==============================] - 0s 6ms/step - loss: 0.3602 - accuracy: 0.8238 - val_loss: 0.4025 - val_accuracy: 0.8553\n",
      "Epoch 26/100\n",
      "8/8 [==============================] - 0s 9ms/step - loss: 0.3545 - accuracy: 0.8238 - val_loss: 0.3986 - val_accuracy: 0.8421\n",
      "Epoch 27/100\n",
      "8/8 [==============================] - 0s 9ms/step - loss: 0.3487 - accuracy: 0.8502 - val_loss: 0.3957 - val_accuracy: 0.8553\n",
      "Epoch 28/100\n",
      "8/8 [==============================] - 0s 6ms/step - loss: 0.3409 - accuracy: 0.8502 - val_loss: 0.3950 - val_accuracy: 0.8553\n",
      "Epoch 29/100\n",
      "8/8 [==============================] - 0s 7ms/step - loss: 0.3355 - accuracy: 0.8502 - val_loss: 0.3952 - val_accuracy: 0.8553\n",
      "Epoch 30/100\n",
      "8/8 [==============================] - 0s 7ms/step - loss: 0.3303 - accuracy: 0.8502 - val_loss: 0.3957 - val_accuracy: 0.8553\n",
      "Epoch 31/100\n",
      "8/8 [==============================] - 0s 6ms/step - loss: 0.3249 - accuracy: 0.8502 - val_loss: 0.3966 - val_accuracy: 0.8553\n",
      "Epoch 32/100\n",
      "8/8 [==============================] - 0s 9ms/step - loss: 0.3205 - accuracy: 0.8546 - val_loss: 0.3962 - val_accuracy: 0.8553\n",
      "Epoch 33/100\n",
      "8/8 [==============================] - 0s 10ms/step - loss: 0.3154 - accuracy: 0.8590 - val_loss: 0.3963 - val_accuracy: 0.8553\n",
      "Epoch 34/100\n",
      "8/8 [==============================] - 0s 6ms/step - loss: 0.3113 - accuracy: 0.8678 - val_loss: 0.3986 - val_accuracy: 0.8553\n",
      "Epoch 35/100\n",
      "8/8 [==============================] - 0s 6ms/step - loss: 0.3063 - accuracy: 0.8634 - val_loss: 0.4030 - val_accuracy: 0.8421\n",
      "Epoch 36/100\n",
      "8/8 [==============================] - 0s 9ms/step - loss: 0.3031 - accuracy: 0.8678 - val_loss: 0.4051 - val_accuracy: 0.8421\n",
      "Epoch 37/100\n",
      "8/8 [==============================] - 0s 10ms/step - loss: 0.2991 - accuracy: 0.8722 - val_loss: 0.4061 - val_accuracy: 0.8421\n",
      "Epoch 38/100\n",
      "8/8 [==============================] - 0s 7ms/step - loss: 0.2957 - accuracy: 0.8811 - val_loss: 0.4070 - val_accuracy: 0.8421\n",
      "Epoch 39/100\n",
      "8/8 [==============================] - 0s 6ms/step - loss: 0.2918 - accuracy: 0.8899 - val_loss: 0.4074 - val_accuracy: 0.8421\n",
      "Epoch 40/100\n",
      "8/8 [==============================] - 0s 10ms/step - loss: 0.2884 - accuracy: 0.8899 - val_loss: 0.4083 - val_accuracy: 0.8421\n",
      "Epoch 41/100\n",
      "8/8 [==============================] - 0s 9ms/step - loss: 0.2859 - accuracy: 0.8987 - val_loss: 0.4088 - val_accuracy: 0.8289\n",
      "Epoch 42/100\n",
      "8/8 [==============================] - 0s 16ms/step - loss: 0.2834 - accuracy: 0.8987 - val_loss: 0.4114 - val_accuracy: 0.8289\n",
      "Epoch 43/100\n",
      "8/8 [==============================] - 0s 16ms/step - loss: 0.2811 - accuracy: 0.8987 - val_loss: 0.4135 - val_accuracy: 0.8158\n",
      "Epoch 44/100\n",
      "8/8 [==============================] - 0s 9ms/step - loss: 0.2774 - accuracy: 0.8987 - val_loss: 0.4172 - val_accuracy: 0.8421\n",
      "Epoch 45/100\n",
      "8/8 [==============================] - 0s 28ms/step - loss: 0.2746 - accuracy: 0.8943 - val_loss: 0.4218 - val_accuracy: 0.8553\n",
      "Epoch 46/100\n",
      "8/8 [==============================] - 0s 19ms/step - loss: 0.2715 - accuracy: 0.8767 - val_loss: 0.4247 - val_accuracy: 0.8553\n",
      "Epoch 47/100\n",
      "8/8 [==============================] - 0s 12ms/step - loss: 0.2689 - accuracy: 0.8767 - val_loss: 0.4244 - val_accuracy: 0.8553\n",
      "Epoch 48/100\n",
      "8/8 [==============================] - 0s 12ms/step - loss: 0.2625 - accuracy: 0.8811 - val_loss: 0.4233 - val_accuracy: 0.8289\n",
      "Epoch 49/100\n",
      "8/8 [==============================] - 0s 9ms/step - loss: 0.2615 - accuracy: 0.8943 - val_loss: 0.4266 - val_accuracy: 0.8158\n",
      "Epoch 50/100\n",
      "8/8 [==============================] - 0s 7ms/step - loss: 0.2577 - accuracy: 0.8943 - val_loss: 0.4321 - val_accuracy: 0.8289\n",
      "Epoch 51/100\n",
      "8/8 [==============================] - 0s 10ms/step - loss: 0.2548 - accuracy: 0.8899 - val_loss: 0.4378 - val_accuracy: 0.8289\n",
      "Epoch 52/100\n",
      "8/8 [==============================] - 0s 7ms/step - loss: 0.2517 - accuracy: 0.8899 - val_loss: 0.4416 - val_accuracy: 0.8289\n",
      "Epoch 53/100\n",
      "8/8 [==============================] - 0s 7ms/step - loss: 0.2490 - accuracy: 0.8899 - val_loss: 0.4442 - val_accuracy: 0.8289\n",
      "Epoch 00053: early stopping\n"
     ]
    }
   ],
   "source": [
    "history1=model.fit(x=x_train,y=y_train,validation_data=(x_test,y_test),epochs=100,verbose=1,callbacks=[earlystopping])"
   ]
  },
  {
   "cell_type": "code",
   "execution_count": 31,
   "id": "a23bc348",
   "metadata": {
    "execution": {
     "iopub.execute_input": "2022-05-18T14:21:50.891063Z",
     "iopub.status.busy": "2022-05-18T14:21:50.890587Z",
     "iopub.status.idle": "2022-05-18T14:21:50.893496Z",
     "shell.execute_reply": "2022-05-18T14:21:50.893085Z"
    },
    "papermill": {
     "duration": 0.097518,
     "end_time": "2022-05-18T14:21:50.895258",
     "exception": false,
     "start_time": "2022-05-18T14:21:50.797740",
     "status": "completed"
    },
    "tags": []
   },
   "outputs": [],
   "source": [
    "epoch=len(history1.epoch)"
   ]
  },
  {
   "cell_type": "markdown",
   "id": "7f02e1e1",
   "metadata": {
    "papermill": {
     "duration": 0.093442,
     "end_time": "2022-05-18T14:21:51.084829",
     "exception": false,
     "start_time": "2022-05-18T14:21:50.991387",
     "status": "completed"
    },
    "tags": []
   },
   "source": [
    "-FOR OUR FIT VALUE OF EPOCH IS NOT 100 SO WE WILL START OUR MODEL AGAIN WITH NEW EPOCH"
   ]
  },
  {
   "cell_type": "code",
   "execution_count": 32,
   "id": "b40c591f",
   "metadata": {
    "execution": {
     "iopub.execute_input": "2022-05-18T14:21:51.374398Z",
     "iopub.status.busy": "2022-05-18T14:21:51.374152Z",
     "iopub.status.idle": "2022-05-18T14:21:51.392188Z",
     "shell.execute_reply": "2022-05-18T14:21:51.389771Z"
    },
    "papermill": {
     "duration": 0.172472,
     "end_time": "2022-05-18T14:21:51.396300",
     "exception": false,
     "start_time": "2022-05-18T14:21:51.223828",
     "status": "completed"
    },
    "tags": []
   },
   "outputs": [],
   "source": [
    "model=Sequential()\n",
    "model.add(Dense(13,activation=\"relu\"))\n",
    "model.add(Dense(10,activation=\"relu\"))\n",
    "model.add(Dense(8,activation=\"relu\"))\n",
    "model.add(Dense(8,activation=\"relu\"))\n",
    "model.add(Dense(1,activation=\"sigmoid\"))\n",
    "model.compile(optimizer=\"adam\",loss=\"binary_crossentropy\",metrics=['accuracy'])"
   ]
  },
  {
   "cell_type": "code",
   "execution_count": 33,
   "id": "78930e7b",
   "metadata": {
    "execution": {
     "iopub.execute_input": "2022-05-18T14:21:51.689376Z",
     "iopub.status.busy": "2022-05-18T14:21:51.688964Z",
     "iopub.status.idle": "2022-05-18T14:21:55.557748Z",
     "shell.execute_reply": "2022-05-18T14:21:55.556679Z"
    },
    "papermill": {
     "duration": 4.01181,
     "end_time": "2022-05-18T14:21:55.560725",
     "exception": false,
     "start_time": "2022-05-18T14:21:51.548915",
     "status": "completed"
    },
    "tags": []
   },
   "outputs": [
    {
     "name": "stdout",
     "output_type": "stream",
     "text": [
      "[[29  5]\n",
      " [ 6 36]] ysdaaadddddd\n",
      "Classification on Depp Learning Accuracy score 0.8552631578947368\n"
     ]
    }
   ],
   "source": [
    "history2=model.fit(x=x_train,y=y_train,validation_data=(x_test,y_test),epochs=epoch,verbose=0)\n",
    "y_pred=model.predict(x_test)\n",
    "y_pred=(y_pred>0.5).astype(int)\n",
    "from sklearn.metrics import  confusion_matrix\n",
    "print(confusion_matrix(y_pred,y_test),\"ysdaaadddddd\")\n",
    "print(\"Classification on Depp Learning Accuracy score\",accuracy_score(y_test,y_pred))\n",
    "Deep_Learning_Score=accuracy_score(y_test,y_pred)\n"
   ]
  },
  {
   "cell_type": "code",
   "execution_count": 34,
   "id": "72f1cc3b",
   "metadata": {
    "execution": {
     "iopub.execute_input": "2022-05-18T14:21:55.839495Z",
     "iopub.status.busy": "2022-05-18T14:21:55.839280Z",
     "iopub.status.idle": "2022-05-18T14:21:55.977202Z",
     "shell.execute_reply": "2022-05-18T14:21:55.976674Z"
    },
    "papermill": {
     "duration": 0.278947,
     "end_time": "2022-05-18T14:21:55.979226",
     "exception": false,
     "start_time": "2022-05-18T14:21:55.700279",
     "status": "completed"
    },
    "tags": []
   },
   "outputs": [
    {
     "data": {
      "text/plain": [
       "<AxesSubplot:>"
      ]
     },
     "execution_count": 34,
     "metadata": {},
     "output_type": "execute_result"
    },
    {
     "data": {
      "image/png": "[encoded data removed]",
      "text/plain": [
       "<Figure size 432x288 with 1 Axes>"
      ]
     },
     "metadata": {
      "needs_background": "light"
     },
     "output_type": "display_data"
    }
   ],
   "source": [
    "graf2=pd.DataFrame(history2.history)\n",
    "graf2=graf2.drop([\"val_accuracy\",\"accuracy\"],axis=1)\n",
    "graf2.plot()"
   ]
  },
  {
   "cell_type": "markdown",
   "id": "027036b0",
   "metadata": {
    "papermill": {
     "duration": 0.13836,
     "end_time": "2022-05-18T14:21:56.255906",
     "exception": false,
     "start_time": "2022-05-18T14:21:56.117546",
     "status": "completed"
    },
    "tags": []
   },
   "source": [
    "-OUR NEW OUTPUT IS MORE BALANCED THAN OUR OLD OUTPUT."
   ]
  },
  {
   "cell_type": "markdown",
   "id": "cc578095",
   "metadata": {
    "papermill": {
     "duration": 0.13388,
     "end_time": "2022-05-18T14:21:56.526916",
     "exception": false,
     "start_time": "2022-05-18T14:21:56.393036",
     "status": "completed"
    },
    "tags": []
   },
   "source": [
    "# 5.CLASSIFICATION CONCLUSIONS(MACHINE LEARNING MODELS VS DEEP LEARNING MODEL)  <a id=12></a>"
   ]
  },
  {
   "cell_type": "code",
   "execution_count": 35,
   "id": "1fb5e8b2",
   "metadata": {
    "execution": {
     "iopub.execute_input": "2022-05-18T14:21:56.800965Z",
     "iopub.status.busy": "2022-05-18T14:21:56.800628Z",
     "iopub.status.idle": "2022-05-18T14:21:56.810093Z",
     "shell.execute_reply": "2022-05-18T14:21:56.808613Z"
    },
    "papermill": {
     "duration": 0.14973,
     "end_time": "2022-05-18T14:21:56.811927",
     "exception": false,
     "start_time": "2022-05-18T14:21:56.662197",
     "status": "completed"
    },
    "tags": []
   },
   "outputs": [
    {
     "data": {
      "text/html": [
       "<div>\n",
       "<style scoped>\n",
       "    .dataframe tbody tr th:only-of-type {\n",
       "        vertical-align: middle;\n",
       "    }\n",
       "\n",
       "    .dataframe tbody tr th {\n",
       "        vertical-align: top;\n",
       "    }\n",
       "\n",
       "    .dataframe thead th {\n",
       "        text-align: right;\n",
       "    }\n",
       "</style>\n",
       "<table border=\"1\" class=\"dataframe\">\n",
       "  <thead>\n",
       "    <tr style=\"text-align: right;\">\n",
       "      <th></th>\n",
       "      <th>Score</th>\n",
       "    </tr>\n",
       "  </thead>\n",
       "  <tbody>\n",
       "    <tr>\n",
       "      <th>Support Vector Machine</th>\n",
       "      <td>0.855263</td>\n",
       "    </tr>\n",
       "    <tr>\n",
       "      <th>Random Forest</th>\n",
       "      <td>0.842105</td>\n",
       "    </tr>\n",
       "    <tr>\n",
       "      <th>Gradient Boosting</th>\n",
       "      <td>0.842105</td>\n",
       "    </tr>\n",
       "    <tr>\n",
       "      <th>XGBoost</th>\n",
       "      <td>0.828947</td>\n",
       "    </tr>\n",
       "    <tr>\n",
       "      <th>CatBoost</th>\n",
       "      <td>0.828947</td>\n",
       "    </tr>\n",
       "    <tr>\n",
       "      <th>Deep Learning</th>\n",
       "      <td>0.855263</td>\n",
       "    </tr>\n",
       "  </tbody>\n",
       "</table>\n",
       "</div>"
      ],
      "text/plain": [
       "                           Score\n",
       "Support Vector Machine  0.855263\n",
       "Random Forest           0.842105\n",
       "Gradient Boosting       0.842105\n",
       "XGBoost                 0.828947\n",
       "CatBoost                0.828947\n",
       "Deep Learning           0.855263"
      ]
     },
     "execution_count": 35,
     "metadata": {},
     "output_type": "execute_result"
    }
   ],
   "source": [
    "df = pd.DataFrame(data =(SVC_SCORE,RandomForest_SCORE,GradientBoosting_SCORE,XGBClassifier_SCORE,CatBoost_SCORE,Deep_Learning_Score),index = ['Support Vector Machine','Random Forest','Gradient Boosting','XGBoost','CatBoost',\"Deep Learning\"], columns = ['Score'])\n",
    "df"
   ]
  },
  {
   "cell_type": "markdown",
   "id": "a7d48ff0",
   "metadata": {
    "papermill": {
     "duration": 0.090443,
     "end_time": "2022-05-18T14:21:56.994499",
     "exception": false,
     "start_time": "2022-05-18T14:21:56.904056",
     "status": "completed"
    },
    "tags": []
   },
   "source": [
    "-WE CAN SAY AS CONCLUSION THAT  WE CAN USE FOR THIS DATA CSV MACHINE LEARNING METHOD OR DEEP LEARNING"
   ]
  }
 ],
 "metadata": {
  "kernelspec": {
   "display_name": "Python 3",
   "language": "python",
   "name": "python3"
  },
  "language_info": {
   "codemirror_mode": {
    "name": "ipython",
    "version": 3
   },
   "file_extension": ".py",
   "mimetype": "text/x-python",
   "name": "python",
   "nbconvert_exporter": "python",
   "pygments_lexer": "ipython3",
   "version": "3.7.12"
  },
  "papermill": {
   "default_parameters": {},
   "duration": 76.587462,
   "end_time": "2022-05-18T14:22:00.091395",
   "environment_variables": {},
   "exception": null,
   "input_path": "__notebook__.ipynb",
   "output_path": "__notebook__.ipynb",
   "parameters": {},
   "start_time": "2022-05-18T14:20:43.503933",
   "version": "2.3.4"
  }
 },
 "nbformat": 4,
 "nbformat_minor": 5
}
